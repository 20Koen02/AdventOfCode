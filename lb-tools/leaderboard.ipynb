{
 "cells": [
  {
   "cell_type": "code",
   "execution_count": 2,
   "metadata": {},
   "outputs": [
    {
     "name": "stdout",
     "output_type": "stream",
     "text": [
      "Requirement already satisfied: python-dotenv in /opt/homebrew/lib/python3.11/site-packages (1.0.0)\n",
      "Requirement already satisfied: requests in /opt/homebrew/lib/python3.11/site-packages (2.31.0)\n",
      "Requirement already satisfied: tqdm in /opt/homebrew/lib/python3.11/site-packages (4.66.1)\n",
      "Requirement already satisfied: pandas in /opt/homebrew/lib/python3.11/site-packages (2.1.4)\n",
      "Requirement already satisfied: charset-normalizer<4,>=2 in /opt/homebrew/lib/python3.11/site-packages (from requests) (3.3.2)\n",
      "Requirement already satisfied: idna<4,>=2.5 in /opt/homebrew/lib/python3.11/site-packages (from requests) (3.6)\n",
      "Requirement already satisfied: urllib3<3,>=1.21.1 in /opt/homebrew/lib/python3.11/site-packages (from requests) (2.1.0)\n",
      "Requirement already satisfied: certifi>=2017.4.17 in /Users/koen/Library/Python/3.11/lib/python/site-packages (from requests) (2022.9.24)\n",
      "Requirement already satisfied: numpy<2,>=1.23.2 in /opt/homebrew/lib/python3.11/site-packages (from pandas) (1.26.2)\n",
      "Requirement already satisfied: python-dateutil>=2.8.2 in /Users/koen/Library/Python/3.11/lib/python/site-packages (from pandas) (2.8.2)\n",
      "Requirement already satisfied: pytz>=2020.1 in /opt/homebrew/lib/python3.11/site-packages (from pandas) (2023.3.post1)\n",
      "Requirement already satisfied: tzdata>=2022.1 in /opt/homebrew/lib/python3.11/site-packages (from pandas) (2023.3)\n",
      "Requirement already satisfied: six>=1.5 in /opt/homebrew/lib/python3.11/site-packages (from python-dateutil>=2.8.2->pandas) (1.16.0)\n",
      "\n",
      "\u001b[1m[\u001b[0m\u001b[34;49mnotice\u001b[0m\u001b[1;39;49m]\u001b[0m\u001b[39;49m A new release of pip is available: \u001b[0m\u001b[31;49m23.2.1\u001b[0m\u001b[39;49m -> \u001b[0m\u001b[32;49m23.3.1\u001b[0m\n",
      "\u001b[1m[\u001b[0m\u001b[34;49mnotice\u001b[0m\u001b[1;39;49m]\u001b[0m\u001b[39;49m To update, run: \u001b[0m\u001b[32;49mpython3.11 -m pip install --upgrade pip\u001b[0m\n",
      "Note: you may need to restart the kernel to use updated packages.\n"
     ]
    }
   ],
   "source": [
    "%pip install python-dotenv requests tqdm pandas"
   ]
  },
  {
   "cell_type": "code",
   "execution_count": 3,
   "metadata": {},
   "outputs": [],
   "source": [
    "%load_ext dotenv\n",
    "%dotenv\n",
    "\n",
    "import os\n",
    "AOC_SESSION = os.getenv(\"AOC_SESSION\")"
   ]
  },
  {
   "cell_type": "code",
   "execution_count": 4,
   "metadata": {},
   "outputs": [
    {
     "name": "stdout",
     "output_type": "stream",
     "text": [
      "Downloading 2015 leaderboard\n",
      "Downloading 2016 leaderboard\n",
      "Downloading 2017 leaderboard\n",
      "Downloading 2018 leaderboard\n",
      "Downloading 2019 leaderboard\n",
      "Downloading 2020 leaderboard\n",
      "Downloading 2021 leaderboard\n",
      "Downloading 2022 leaderboard\n",
      "Downloading 2023 leaderboard\n"
     ]
    }
   ],
   "source": [
    "import requests\n",
    "import datetime\n",
    "\n",
    "def get_leaderboard(year):\n",
    "    print(f\"Downloading {year} leaderboard\")\n",
    "    url = f\"https://adventofcode.com/{year}/leaderboard/private/view/635254.json\"\n",
    "    cookies = {\"session\": AOC_SESSION}\n",
    "    return requests.get(url, cookies=cookies).json()\n",
    "\n",
    "years = range(2015, datetime.datetime.now().year + 1)\n",
    "leaderboards = [get_leaderboard(year) for year in years]"
   ]
  },
  {
   "cell_type": "code",
   "execution_count": 5,
   "metadata": {},
   "outputs": [],
   "source": [
    "members = {}\n",
    "for leaderboard in leaderboards:\n",
    "    for member in leaderboard[\"members\"].values():\n",
    "        if member[\"name\"] not in members:\n",
    "            members[member[\"name\"]] = {\"global_score\": 0, \"local_score\": 0, \"stars\": 0}\n",
    "        members[member[\"name\"]][\"global_score\"] += member[\"global_score\"]\n",
    "        members[member[\"name\"]][\"local_score\"] += member[\"local_score\"]\n",
    "        members[member[\"name\"]][\"stars\"] += member[\"stars\"]"
   ]
  },
  {
   "cell_type": "code",
   "execution_count": 6,
   "metadata": {},
   "outputs": [],
   "source": [
    "# show members with 0 stars\n",
    "for member, attr in members.items():\n",
    "    if attr[\"stars\"] == 0:\n",
    "        print(member)"
   ]
  },
  {
   "cell_type": "code",
   "execution_count": 7,
   "metadata": {},
   "outputs": [
    {
     "data": {
      "text/html": [
       "<div>\n",
       "<style scoped>\n",
       "    .dataframe tbody tr th:only-of-type {\n",
       "        vertical-align: middle;\n",
       "    }\n",
       "\n",
       "    .dataframe tbody tr th {\n",
       "        vertical-align: top;\n",
       "    }\n",
       "\n",
       "    .dataframe thead th {\n",
       "        text-align: right;\n",
       "    }\n",
       "</style>\n",
       "<table border=\"1\" class=\"dataframe\">\n",
       "  <thead>\n",
       "    <tr style=\"text-align: right;\">\n",
       "      <th></th>\n",
       "      <th>local_score</th>\n",
       "      <th>stars</th>\n",
       "      <th>global_score</th>\n",
       "    </tr>\n",
       "  </thead>\n",
       "  <tbody>\n",
       "    <tr>\n",
       "      <th>UnderKoen</th>\n",
       "      <td>15786</td>\n",
       "      <td>203</td>\n",
       "      <td>70</td>\n",
       "    </tr>\n",
       "    <tr>\n",
       "      <th>Tis_awesomeness</th>\n",
       "      <td>15234</td>\n",
       "      <td>195</td>\n",
       "      <td>203</td>\n",
       "    </tr>\n",
       "    <tr>\n",
       "      <th>20Koen02</th>\n",
       "      <td>11733</td>\n",
       "      <td>160</td>\n",
       "      <td>0</td>\n",
       "    </tr>\n",
       "    <tr>\n",
       "      <th>Cipulot</th>\n",
       "      <td>10964</td>\n",
       "      <td>150</td>\n",
       "      <td>0</td>\n",
       "    </tr>\n",
       "    <tr>\n",
       "      <th>RadioactiveHydra</th>\n",
       "      <td>10493</td>\n",
       "      <td>134</td>\n",
       "      <td>54</td>\n",
       "    </tr>\n",
       "    <tr>\n",
       "      <th>13Ducks</th>\n",
       "      <td>10241</td>\n",
       "      <td>141</td>\n",
       "      <td>0</td>\n",
       "    </tr>\n",
       "    <tr>\n",
       "      <th>Stefan Djokovic</th>\n",
       "      <td>8932</td>\n",
       "      <td>119</td>\n",
       "      <td>0</td>\n",
       "    </tr>\n",
       "    <tr>\n",
       "      <th>Jari (LotU)</th>\n",
       "      <td>7479</td>\n",
       "      <td>103</td>\n",
       "      <td>0</td>\n",
       "    </tr>\n",
       "    <tr>\n",
       "      <th>clubPenguin420</th>\n",
       "      <td>7318</td>\n",
       "      <td>96</td>\n",
       "      <td>18</td>\n",
       "    </tr>\n",
       "    <tr>\n",
       "      <th>E Q</th>\n",
       "      <td>7124</td>\n",
       "      <td>103</td>\n",
       "      <td>0</td>\n",
       "    </tr>\n",
       "    <tr>\n",
       "      <th>Stanislav Sandler</th>\n",
       "      <td>6692</td>\n",
       "      <td>86</td>\n",
       "      <td>0</td>\n",
       "    </tr>\n",
       "    <tr>\n",
       "      <th>wouter173</th>\n",
       "      <td>6261</td>\n",
       "      <td>92</td>\n",
       "      <td>0</td>\n",
       "    </tr>\n",
       "    <tr>\n",
       "      <th>ArviWasTaken</th>\n",
       "      <td>5455</td>\n",
       "      <td>76</td>\n",
       "      <td>0</td>\n",
       "    </tr>\n",
       "    <tr>\n",
       "      <th>Yohello1</th>\n",
       "      <td>5001</td>\n",
       "      <td>70</td>\n",
       "      <td>0</td>\n",
       "    </tr>\n",
       "    <tr>\n",
       "      <th>EntireTwix</th>\n",
       "      <td>4301</td>\n",
       "      <td>60</td>\n",
       "      <td>0</td>\n",
       "    </tr>\n",
       "  </tbody>\n",
       "</table>\n",
       "</div>"
      ],
      "text/plain": [
       "                   local_score  stars  global_score\n",
       "UnderKoen                15786    203            70\n",
       "Tis_awesomeness          15234    195           203\n",
       "20Koen02                 11733    160             0\n",
       "Cipulot                  10964    150             0\n",
       "RadioactiveHydra         10493    134            54\n",
       "13Ducks                  10241    141             0\n",
       "Stefan Djokovic           8932    119             0\n",
       "Jari (LotU)               7479    103             0\n",
       "clubPenguin420            7318     96            18\n",
       "E Q                       7124    103             0\n",
       "Stanislav Sandler         6692     86             0\n",
       "wouter173                 6261     92             0\n",
       "ArviWasTaken              5455     76             0\n",
       "Yohello1                  5001     70             0\n",
       "EntireTwix                4301     60             0"
      ]
     },
     "execution_count": 7,
     "metadata": {},
     "output_type": "execute_result"
    }
   ],
   "source": [
    "import pandas as pd\n",
    "\n",
    "df = pd.DataFrame.from_dict(members, orient='index', columns=[\"local_score\", \"stars\", \"global_score\"])\n",
    "df.sort_values(by=\"local_score\", ascending=False, inplace=True)\n",
    "df.head(15)\n"
   ]
  }
 ],
 "metadata": {
  "kernelspec": {
   "display_name": "Python 3",
   "language": "python",
   "name": "python3"
  },
  "language_info": {
   "codemirror_mode": {
    "name": "ipython",
    "version": 3
   },
   "file_extension": ".py",
   "mimetype": "text/x-python",
   "name": "python",
   "nbconvert_exporter": "python",
   "pygments_lexer": "ipython3",
   "version": "3.11.5"
  }
 },
 "nbformat": 4,
 "nbformat_minor": 2
}
