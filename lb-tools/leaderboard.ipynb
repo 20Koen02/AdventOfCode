{
 "cells": [
  {
   "cell_type": "code",
   "execution_count": 1,
   "metadata": {},
   "outputs": [
    {
     "name": "stdout",
     "output_type": "stream",
     "text": [
      "Defaulting to user installation because normal site-packages is not writeable\n",
      "Collecting python-dotenv\n",
      "  Downloading python_dotenv-1.0.1-py3-none-any.whl (19 kB)\n",
      "Collecting requests\n",
      "  Using cached requests-2.32.3-py3-none-any.whl (64 kB)\n",
      "Collecting tqdm\n",
      "  Downloading tqdm-4.67.1-py3-none-any.whl (78 kB)\n",
      "\u001b[K     |████████████████████████████████| 78 kB 5.7 MB/s eta 0:00:01\n",
      "\u001b[?25hCollecting pandas\n",
      "  Downloading pandas-2.2.3-cp39-cp39-macosx_11_0_arm64.whl (11.3 MB)\n",
      "\u001b[K     |████████████████████████████████| 11.3 MB 24.7 MB/s eta 0:00:01\n",
      "\u001b[?25hCollecting idna<4,>=2.5\n",
      "  Using cached idna-3.10-py3-none-any.whl (70 kB)\n",
      "Collecting certifi>=2017.4.17\n",
      "  Using cached certifi-2024.8.30-py3-none-any.whl (167 kB)\n",
      "Collecting urllib3<3,>=1.21.1\n",
      "  Using cached urllib3-2.2.3-py3-none-any.whl (126 kB)\n",
      "Collecting charset-normalizer<4,>=2\n",
      "  Downloading charset_normalizer-3.4.0-cp39-cp39-macosx_11_0_arm64.whl (120 kB)\n",
      "\u001b[K     |████████████████████████████████| 120 kB 25.6 MB/s eta 0:00:01\n",
      "\u001b[?25hCollecting tzdata>=2022.7\n",
      "  Using cached tzdata-2024.2-py2.py3-none-any.whl (346 kB)\n",
      "Collecting pytz>=2020.1\n",
      "  Downloading pytz-2024.2-py2.py3-none-any.whl (508 kB)\n",
      "\u001b[K     |████████████████████████████████| 508 kB 52.5 MB/s eta 0:00:01\n",
      "\u001b[?25hCollecting numpy>=1.22.4\n",
      "  Downloading numpy-2.0.2-cp39-cp39-macosx_14_0_arm64.whl (5.3 MB)\n",
      "\u001b[K     |████████████████████████████████| 5.3 MB 40.3 MB/s eta 0:00:01\n",
      "\u001b[?25hRequirement already satisfied: python-dateutil>=2.8.2 in /Users/koen/Library/Python/3.9/lib/python/site-packages (from pandas) (2.9.0.post0)\n",
      "Requirement already satisfied: six>=1.5 in /Applications/Xcode.app/Contents/Developer/Library/Frameworks/Python3.framework/Versions/3.9/lib/python3.9/site-packages (from python-dateutil>=2.8.2->pandas) (1.15.0)\n",
      "Installing collected packages: urllib3, tzdata, pytz, numpy, idna, charset-normalizer, certifi, tqdm, requests, python-dotenv, pandas\n",
      "Successfully installed certifi-2024.8.30 charset-normalizer-3.4.0 idna-3.10 numpy-2.0.2 pandas-2.2.3 python-dotenv-1.0.1 pytz-2024.2 requests-2.32.3 tqdm-4.67.1 tzdata-2024.2 urllib3-2.2.3\n",
      "\u001b[33mWARNING: You are using pip version 21.2.4; however, version 24.3.1 is available.\n",
      "You should consider upgrading via the '/Applications/Xcode.app/Contents/Developer/usr/bin/python3 -m pip install --upgrade pip' command.\u001b[0m\n",
      "Note: you may need to restart the kernel to use updated packages.\n"
     ]
    }
   ],
   "source": [
    "%pip install python-dotenv requests tqdm pandas"
   ]
  },
  {
   "cell_type": "code",
   "execution_count": 2,
   "metadata": {},
   "outputs": [],
   "source": [
    "%load_ext dotenv\n",
    "%dotenv\n",
    "\n",
    "import os\n",
    "AOC_SESSION = os.getenv(\"AOC_SESSION\")"
   ]
  },
  {
   "cell_type": "code",
   "execution_count": 22,
   "metadata": {},
   "outputs": [
    {
     "name": "stdout",
     "output_type": "stream",
     "text": [
      "Downloading 2015 leaderboard\n",
      "Downloading 2016 leaderboard\n",
      "Downloading 2017 leaderboard\n",
      "Downloading 2018 leaderboard\n",
      "Downloading 2019 leaderboard\n",
      "Downloading 2020 leaderboard\n",
      "Downloading 2021 leaderboard\n",
      "Downloading 2022 leaderboard\n",
      "Downloading 2023 leaderboard\n",
      "Downloading 2024 leaderboard\n"
     ]
    }
   ],
   "source": [
    "import requests\n",
    "import datetime\n",
    "\n",
    "def get_leaderboard(year):\n",
    "    print(f\"Downloading {year} leaderboard\")\n",
    "    url = f\"https://adventofcode.com/{year}/leaderboard/private/view/635254.json\"\n",
    "    cookies = {\"session\": AOC_SESSION}\n",
    "    return requests.get(url, cookies=cookies).json()\n",
    "\n",
    "years = range(2015, datetime.datetime.now().year + 1)\n",
    "leaderboards = [get_leaderboard(year) for year in years]"
   ]
  },
  {
   "cell_type": "code",
   "execution_count": 23,
   "metadata": {},
   "outputs": [],
   "source": [
    "members = {}\n",
    "for leaderboard in leaderboards:\n",
    "    for member in leaderboard[\"members\"].values():\n",
    "        if member[\"name\"] not in members:\n",
    "            members[member[\"name\"]] = {\"global_score\": 0, \"local_score\": 0, \"stars\": 0}\n",
    "        members[member[\"name\"]][\"global_score\"] += member[\"global_score\"]\n",
    "        members[member[\"name\"]][\"local_score\"] += member[\"local_score\"]\n",
    "        members[member[\"name\"]][\"stars\"] += member[\"stars\"]"
   ]
  },
  {
   "cell_type": "code",
   "execution_count": 24,
   "metadata": {},
   "outputs": [],
   "source": [
    "# show members with 0 stars\n",
    "for member, attr in members.items():\n",
    "    if attr[\"stars\"] == 0:\n",
    "        print(member)"
   ]
  },
  {
   "cell_type": "code",
   "execution_count": 26,
   "metadata": {},
   "outputs": [
    {
     "data": {
      "text/plain": [
       "78"
      ]
     },
     "execution_count": 26,
     "metadata": {},
     "output_type": "execute_result"
    }
   ],
   "source": [
    "len(members)"
   ]
  },
  {
   "cell_type": "code",
   "execution_count": 27,
   "metadata": {},
   "outputs": [
    {
     "data": {
      "text/html": [
       "<div>\n",
       "<style scoped>\n",
       "    .dataframe tbody tr th:only-of-type {\n",
       "        vertical-align: middle;\n",
       "    }\n",
       "\n",
       "    .dataframe tbody tr th {\n",
       "        vertical-align: top;\n",
       "    }\n",
       "\n",
       "    .dataframe thead th {\n",
       "        text-align: right;\n",
       "    }\n",
       "</style>\n",
       "<table border=\"1\" class=\"dataframe\">\n",
       "  <thead>\n",
       "    <tr style=\"text-align: right;\">\n",
       "      <th></th>\n",
       "      <th>local_score</th>\n",
       "      <th>stars</th>\n",
       "      <th>global_score</th>\n",
       "    </tr>\n",
       "  </thead>\n",
       "  <tbody>\n",
       "    <tr>\n",
       "      <th>UnderKoen</th>\n",
       "      <td>16034</td>\n",
       "      <td>209</td>\n",
       "      <td>70</td>\n",
       "    </tr>\n",
       "    <tr>\n",
       "      <th>Tis_awesomeness</th>\n",
       "      <td>15043</td>\n",
       "      <td>195</td>\n",
       "      <td>203</td>\n",
       "    </tr>\n",
       "    <tr>\n",
       "      <th>20Koen02</th>\n",
       "      <td>12172</td>\n",
       "      <td>168</td>\n",
       "      <td>0</td>\n",
       "    </tr>\n",
       "    <tr>\n",
       "      <th>RadioactiveHydra</th>\n",
       "      <td>10837</td>\n",
       "      <td>140</td>\n",
       "      <td>54</td>\n",
       "    </tr>\n",
       "    <tr>\n",
       "      <th>Cipulot</th>\n",
       "      <td>10819</td>\n",
       "      <td>150</td>\n",
       "      <td>0</td>\n",
       "    </tr>\n",
       "    <tr>\n",
       "      <th>13Ducks</th>\n",
       "      <td>10104</td>\n",
       "      <td>141</td>\n",
       "      <td>0</td>\n",
       "    </tr>\n",
       "    <tr>\n",
       "      <th>Jari (LotU)</th>\n",
       "      <td>9656</td>\n",
       "      <td>132</td>\n",
       "      <td>0</td>\n",
       "    </tr>\n",
       "    <tr>\n",
       "      <th>Stefan Djokovic</th>\n",
       "      <td>8815</td>\n",
       "      <td>119</td>\n",
       "      <td>0</td>\n",
       "    </tr>\n",
       "    <tr>\n",
       "      <th>E Q</th>\n",
       "      <td>7492</td>\n",
       "      <td>109</td>\n",
       "      <td>0</td>\n",
       "    </tr>\n",
       "    <tr>\n",
       "      <th>Stanislav Sandler</th>\n",
       "      <td>7481</td>\n",
       "      <td>97</td>\n",
       "      <td>0</td>\n",
       "    </tr>\n",
       "    <tr>\n",
       "      <th>ArviWasTaken</th>\n",
       "      <td>7407</td>\n",
       "      <td>106</td>\n",
       "      <td>0</td>\n",
       "    </tr>\n",
       "    <tr>\n",
       "      <th>clubPenguin420</th>\n",
       "      <td>7226</td>\n",
       "      <td>96</td>\n",
       "      <td>18</td>\n",
       "    </tr>\n",
       "    <tr>\n",
       "      <th>wouter173</th>\n",
       "      <td>6468</td>\n",
       "      <td>96</td>\n",
       "      <td>0</td>\n",
       "    </tr>\n",
       "    <tr>\n",
       "      <th>Yohello1</th>\n",
       "      <td>4933</td>\n",
       "      <td>70</td>\n",
       "      <td>0</td>\n",
       "    </tr>\n",
       "    <tr>\n",
       "      <th>EntireTwix</th>\n",
       "      <td>4243</td>\n",
       "      <td>60</td>\n",
       "      <td>0</td>\n",
       "    </tr>\n",
       "  </tbody>\n",
       "</table>\n",
       "</div>"
      ],
      "text/plain": [
       "                   local_score  stars  global_score\n",
       "UnderKoen                16034    209            70\n",
       "Tis_awesomeness          15043    195           203\n",
       "20Koen02                 12172    168             0\n",
       "RadioactiveHydra         10837    140            54\n",
       "Cipulot                  10819    150             0\n",
       "13Ducks                  10104    141             0\n",
       "Jari (LotU)               9656    132             0\n",
       "Stefan Djokovic           8815    119             0\n",
       "E Q                       7492    109             0\n",
       "Stanislav Sandler         7481     97             0\n",
       "ArviWasTaken              7407    106             0\n",
       "clubPenguin420            7226     96            18\n",
       "wouter173                 6468     96             0\n",
       "Yohello1                  4933     70             0\n",
       "EntireTwix                4243     60             0"
      ]
     },
     "execution_count": 27,
     "metadata": {},
     "output_type": "execute_result"
    }
   ],
   "source": [
    "import pandas as pd\n",
    "\n",
    "df = pd.DataFrame.from_dict(members, orient='index', columns=[\"local_score\", \"stars\", \"global_score\"])\n",
    "df.sort_values(by=\"local_score\", ascending=False, inplace=True)\n",
    "df.head(15)\n"
   ]
  }
 ],
 "metadata": {
  "kernelspec": {
   "display_name": "Python 3",
   "language": "python",
   "name": "python3"
  },
  "language_info": {
   "codemirror_mode": {
    "name": "ipython",
    "version": 3
   },
   "file_extension": ".py",
   "mimetype": "text/x-python",
   "name": "python",
   "nbconvert_exporter": "python",
   "pygments_lexer": "ipython3",
   "version": "3.9.6"
  }
 },
 "nbformat": 4,
 "nbformat_minor": 2
}
